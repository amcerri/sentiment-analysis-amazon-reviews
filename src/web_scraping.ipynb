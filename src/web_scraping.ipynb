{
 "cells": [
  {
   "cell_type": "markdown",
   "metadata": {},
   "source": [
    "# Amazon Customer Reviews Dataset Generator"
   ]
  },
  {
   "cell_type": "markdown",
   "metadata": {},
   "source": [
    "## Setup\n",
    "\n",
    "### Install and import required libraries and modules"
   ]
  },
  {
   "cell_type": "code",
   "execution_count": 1,
   "metadata": {},
   "outputs": [],
   "source": [
    "# Install and import the required libraries\n",
    "\n",
    "# Uncomment the following line if you are running this notebook for the first time and don't have the required packages installed\n",
    "#!pip install -r ../requirements.txt\n",
    "\n",
    "from selenium import webdriver\n",
    "from selenium.webdriver.chrome.options import Options\n",
    "from selenium.webdriver.chrome.service import Service\n",
    "from webdriver_manager.chrome import ChromeDriverManager\n",
    "from selenium.webdriver.common.by import By\n",
    "from selenium.common.exceptions import TimeoutException\n",
    "from bs4 import BeautifulSoup\n",
    "import lxml\n",
    "import time\n",
    "import re\n",
    "import pandas as pd\n",
    "import math\n",
    "from collections import namedtuple\n",
    "from IPython.display import clear_output\n",
    "from amazon_scraper import AmazonScraper"
   ]
  },
  {
   "cell_type": "markdown",
   "metadata": {},
   "source": [
    "## Input\n",
    "\n",
    "Enter the URL for the product page from Amazon. Optionally, enter the number of pages to be scraped. If the number of pages is not specified, it will iterate through all the pages until it reaches the end of reviews from the US or the last page of reviews available.\n",
    "\n",
    "The input is a `dictionary` in the following format:\n",
    "\n",
    "```python\n",
    "product_list = {\n",
    "    'product_1_ur': 10,\n",
    "    'product_2_url': 10,\n",
    "    'product_3_url': 10\n",
    "}\n",
    "```"
   ]
  },
  {
   "cell_type": "code",
   "execution_count": 2,
   "metadata": {},
   "outputs": [],
   "source": [
    "product_list = {\n",
    "    'https://www.amazon.com/PlayStation-5-Console/dp/B09DFCB66S/ref=sr_1_4?crid=341VBTUP1514Q&keywords=playstation+5&qid=1667007732&qu=eyJxc2MiOiI2LjE5IiwicXNhIjoiOC42NCIsInFzcCI6IjguMzkifQ%3D%3D&sprefix=playstation%2Caps%2C317&sr=8-4': 100,\n",
    "    'https://www.amazon.com/Xbox-S/dp/B08G9J44ZN/ref=lp_16225016011_1_10': 100,\n",
    "    'https://www.amazon.com/Nintendo-Switch-Neon-Blue-Joy%E2%80%91/dp/B07VGRJDFY/ref=sr_1_2?keywords=nintendo+switch&qid=1667058528&qu=eyJxc2MiOiI1LjA3IiwicXNhIjoiNS4yOCIsInFzcCI6IjQuODkifQ%3D%3D&sprefix=nintendo+%2Caps%2C388&sr=8-2': 100\n",
    "}"
   ]
  },
  {
   "cell_type": "markdown",
   "metadata": {},
   "source": [
    "## Web Scraping"
   ]
  },
  {
   "cell_type": "code",
   "execution_count": 3,
   "metadata": {},
   "outputs": [
    {
     "name": "stdout",
     "output_type": "stream",
     "text": [
      "Scraping complete. 2748 reviews scraped for 3 products.\n"
     ]
    }
   ],
   "source": [
    "# Test get_product_name\n",
    "scraper = AmazonScraper()\n",
    "\n",
    "reviews = []\n",
    "\n",
    "# Scrape the reviews\n",
    "for product in product_list:\n",
    "    reviews.extend(scraper.scrape_reviews(product, product_list[product], product_list))\n",
    "\n",
    "clear_output()\n",
    "print('Scraping complete. {} reviews scraped for {} products.'.format(len(reviews), len(product_list)))\n",
    "\n",
    "# Save the scraped data to a CSV file\n",
    "df = pd.DataFrame(reviews)\n",
    "\n",
    "# Remove string starting with \"Video Player is loading.\" and ending with \"This is a modal window.\"\n",
    "df['review_body'] = df['review_body'].str.replace(r'Video Player is loading.\\s*This is a modal window.', '', regex=True).str.strip()\n",
    "# Remove string \"The media could not be loaded.\"\n",
    "df['review_body'] = df['review_body'].str.replace(r'The media could not be loaded.', '', regex=True).str.strip()\n",
    "# Remove rows with empty review_body\n",
    "df = df[df['review_body'] != '']\n",
    "\n",
    "df.to_csv('../dataset/amazon_reviews.csv', index=True)"
   ]
  }
 ],
 "metadata": {
  "kernelspec": {
   "display_name": "Python 3.10.5 64-bit ('3.10.5')",
   "language": "python",
   "name": "python3"
  },
  "language_info": {
   "codemirror_mode": {
    "name": "ipython",
    "version": 3
   },
   "file_extension": ".py",
   "mimetype": "text/x-python",
   "name": "python",
   "nbconvert_exporter": "python",
   "pygments_lexer": "ipython3",
   "version": "3.10.5"
  },
  "orig_nbformat": 4,
  "vscode": {
   "interpreter": {
    "hash": "5c395646f09c62cd0a4225eecbf7f0db2b540a0317614e24b8da97c89261644e"
   }
  }
 },
 "nbformat": 4,
 "nbformat_minor": 2
}
