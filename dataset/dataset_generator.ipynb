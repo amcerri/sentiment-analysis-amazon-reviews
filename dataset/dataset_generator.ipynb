{
 "cells": [
  {
   "cell_type": "markdown",
   "metadata": {},
   "source": [
    "# Amazon Customer Reviews Dataset Generator"
   ]
  },
  {
   "cell_type": "markdown",
   "metadata": {},
   "source": [
    "## Introduction\n",
    "\n",
    "The product review page URLs and the number of reviews to be scraped for each product are defined in the `reviews` dictionary. The `reviews` dictionary is a Python dictionary with the product review page URL as the key and the number of reviews to be scraped for that product as the value. The `reviews` dictionary is defined in the `reviews.py` file."
   ]
  },
  {
   "cell_type": "markdown",
   "metadata": {},
   "source": [
    "## Setup\n",
    "\n",
    "### Install and import required libraries and modules"
   ]
  },
  {
   "cell_type": "code",
   "execution_count": 1,
   "metadata": {},
   "outputs": [],
   "source": [
    "# Install and import the required libraries\n",
    "\n",
    "# Uncomment the following line if you are running this notebook for the first time and don't have the required packages installed\n",
    "#!pip install -r requirements.txt\n",
    "\n",
    "import re\n",
    "import requests\n",
    "import pandas as pd\n",
    "from bs4 import BeautifulSoup\n",
    "from collections import namedtuple\n",
    "from IPython.display import clear_output\n",
    "\n",
    "import reviews_dictionary as rd"
   ]
  },
  {
   "cell_type": "markdown",
   "metadata": {},
   "source": [
    "## Function Definitions\n",
    "\n",
    "The `AmazonScraper` class was created using the guide [How To Create An Amazon Review Scraper With Python](https://youtu.be/w2i3hPyJe08) by [Jie Jenn](https://www.youtube.com/c/JieJenn)."
   ]
  },
  {
   "cell_type": "code",
   "execution_count": 2,
   "metadata": {},
   "outputs": [],
   "source": [
    "# Amazon scraper\n",
    "\n",
    "# Opting for a namedtuple to store the scraped data instead of dictionaries for better readability and performance (named tuples are faster than dictionaries and don't have hashability issues)\n",
    "ReviewDetails = namedtuple('ReviewDetails', ['product_name', 'review_title', 'review_comment', 'review_rating', 'review_date', 'user_username', 'user_profile_url', 'verified_purchase'])\n",
    "\n",
    "# \n",
    "class AmazonScraper:\n",
    "    review_date_pattern = re.compile('(?:Jan(?:uary)?|Feb(?:ruary)?|Mar(?:ch)?|Apr(?:il)?|May|Jun(?:e)?|Jul(?:y)?|Aug(?:ust)?|Sep(?:tember)?|Oct(?:ober)?|Nov(?:ember)?|Dec(?:ember)?) \\d+, \\d{4}')\n",
    "    product_name_pattern = re.compile('^https:\\/{2}www.amazon.com\\/(.+)\\/product-reviews')\n",
    "    \n",
    "    # Headers\n",
    "    def __init__(self):\n",
    "        # Create a session\n",
    "        self.session = requests.Session()\n",
    "        self.session.headers['User-Agent'] = 'Mozilla/5.0 (Windows NT 10.0; Win64; x64; rv: 87.0) Gecko/20100101 Firefox/87.0'\n",
    "        self.session.headers['Accept'] = 'text/html,application/xhtml+xml,application/xml;q=0.9,image/webp,*/*;q=0.8'\n",
    "        self.session.headers['Accept-Language'] = 'en-US,en;q=0.5'\n",
    "        self.session.headers['Connection'] = 'keep-alive'\n",
    "        self.session.headers['Upgrade-Insecure-Requests'] = '1'\n",
    "\n",
    "    # Main function\n",
    "    def scrapeReviews(self, url, page_num, filter_by='recent'):\n",
    "        \"\"\"\n",
    "        @args: filter_by - 'recent' or 'helpful'\n",
    "        @return: list of ReviewDetails namedtuples\n",
    "        \"\"\"\n",
    "        try:\n",
    "            review_url = re.search('^.+(?=\\/)', url).group()\n",
    "            review_url = review_url + '?reviewerType=all_reviews&sortBy={0}&pageNumber={1}'.format(filter_by, page_num)\n",
    "            print('Processing comments page {} for {}...'.format(page_num, review_url))\n",
    "            clear_output(wait=True)\n",
    "            response = self.session.get(review_url)\n",
    "\n",
    "            # Check if the response is valid\n",
    "            product_name = self.product_name_pattern.search(url).group(1) if self.product_name_pattern.search(url) else ''\n",
    "\n",
    "            if not product_name:\n",
    "                print('Invalid URL.')\n",
    "                return\n",
    "            else:\n",
    "                product_name = product_name.replace('-', ' ')\n",
    "\n",
    "            # Parse the response\n",
    "            soup = BeautifulSoup(response.content, 'html.parser')\n",
    "            review_list = soup.find('div', {'id': 'cm_cr-review_list' })    \n",
    "\n",
    "            reviews = []\n",
    "            product_reviews = review_list.find_all('div', {'data-hook': 'review'})\n",
    "            \n",
    "            # Iterate through the reviews\n",
    "            for product_review in product_reviews:\n",
    "                review_title = product_review.find('a', {'data-hook': 'review-title'}).text.strip()\n",
    "                review_comment = product_review.find('span', {'data-hook': 'review-body'}).text.strip()\n",
    "                review_rating = product_review.find('i', {'data-hook': 'review-star-rating'}).text\n",
    "                review_date = self.review_date_pattern.search(product_review.find('span', {'data-hook': 'review-date'}).text).group(0)\n",
    "                user_username = product_review.a.span.text\n",
    "                user_profile_url = 'https://amazon.com/{0}'.format(product_review.a['href'])\n",
    "                verified_purchase = True if product_review.find('span', {'data-hook': 'avp-badge'}) else False\n",
    "                reviews.append(ReviewDetails(product_name, review_title, review_comment, review_rating, review_date, user_username, user_profile_url, verified_purchase))\n",
    "            \n",
    "            return reviews\n",
    "        except Exception as e:\n",
    "            print(e)\n",
    "            \n",
    "            return None"
   ]
  },
  {
   "cell_type": "markdown",
   "metadata": {},
   "source": [
    "## Runnning the code"
   ]
  },
  {
   "cell_type": "code",
   "execution_count": 3,
   "metadata": {},
   "outputs": [
    {
     "name": "stdout",
     "output_type": "stream",
     "text": [
      "Processing comments page 5 for https://www.amazon.com/2022-Apple-MacBook-Laptop-chip/product-reviews/B0B3C57XLR?reviewerType=all_reviews&sortBy=recent&pageNumber=5...\n"
     ]
    }
   ],
   "source": [
    "# Comments scraper\n",
    "\n",
    "reviews = []\n",
    "reviews_urls = rd.review_urls\n",
    "scraper = AmazonScraper()\n",
    "\n",
    "for url, num_pages in reviews_urls.items():\n",
    "    for page in range(1, num_pages+1):\n",
    "        if (page):\n",
    "            reviews.extend(scraper.scrapeReviews(url, page))\n",
    "        \n",
    "# Save to csv with special characters\n",
    "pd.DataFrame(reviews).to_csv('reviews.csv', index=False, encoding='utf-8-sig')"
   ]
  },
  {
   "cell_type": "markdown",
   "metadata": {},
   "source": [
    "## Visualizing the dataset"
   ]
  },
  {
   "cell_type": "code",
   "execution_count": 4,
   "metadata": {},
   "outputs": [
    {
     "data": {
      "text/html": [
       "<div>\n",
       "<style scoped>\n",
       "    .dataframe tbody tr th:only-of-type {\n",
       "        vertical-align: middle;\n",
       "    }\n",
       "\n",
       "    .dataframe tbody tr th {\n",
       "        vertical-align: top;\n",
       "    }\n",
       "\n",
       "    .dataframe thead th {\n",
       "        text-align: right;\n",
       "    }\n",
       "</style>\n",
       "<table border=\"1\" class=\"dataframe\">\n",
       "  <thead>\n",
       "    <tr style=\"text-align: right;\">\n",
       "      <th></th>\n",
       "      <th>product_name</th>\n",
       "      <th>review_title</th>\n",
       "      <th>review_comment</th>\n",
       "      <th>review_rating</th>\n",
       "      <th>review_date</th>\n",
       "      <th>user_username</th>\n",
       "      <th>user_profile_url</th>\n",
       "      <th>verified_purchase</th>\n",
       "    </tr>\n",
       "  </thead>\n",
       "  <tbody>\n",
       "    <tr>\n",
       "      <th>0</th>\n",
       "      <td>Apple AirPods Charging Latest Model</td>\n",
       "      <td>Charging is horrible</td>\n",
       "      <td>Charger doesn’t consistently charge. Drains wh...</td>\n",
       "      <td>3.0 out of 5 stars</td>\n",
       "      <td>October 23, 2022</td>\n",
       "      <td>Teddi</td>\n",
       "      <td>https://amazon.com//gp/profile/amzn1.account.A...</td>\n",
       "      <td>True</td>\n",
       "    </tr>\n",
       "    <tr>\n",
       "      <th>1</th>\n",
       "      <td>Apple AirPods Charging Latest Model</td>\n",
       "      <td>Works perfect with Dell laptop, Samsung cell p...</td>\n",
       "      <td>Easy steps to follow for all devices.</td>\n",
       "      <td>5.0 out of 5 stars</td>\n",
       "      <td>October 22, 2022</td>\n",
       "      <td>Pama</td>\n",
       "      <td>https://amazon.com//gp/profile/amzn1.account.A...</td>\n",
       "      <td>True</td>\n",
       "    </tr>\n",
       "    <tr>\n",
       "      <th>2</th>\n",
       "      <td>Apple AirPods Charging Latest Model</td>\n",
       "      <td>Apple does it again</td>\n",
       "      <td>Apple is always top quality and these are no e...</td>\n",
       "      <td>5.0 out of 5 stars</td>\n",
       "      <td>October 22, 2022</td>\n",
       "      <td>Charlie P.</td>\n",
       "      <td>https://amazon.com//gp/profile/amzn1.account.A...</td>\n",
       "      <td>True</td>\n",
       "    </tr>\n",
       "    <tr>\n",
       "      <th>3</th>\n",
       "      <td>Apple AirPods Charging Latest Model</td>\n",
       "      <td>Works good</td>\n",
       "      <td>No problems  they work good</td>\n",
       "      <td>5.0 out of 5 stars</td>\n",
       "      <td>October 22, 2022</td>\n",
       "      <td>Paula Pearson</td>\n",
       "      <td>https://amazon.com//gp/profile/amzn1.account.A...</td>\n",
       "      <td>True</td>\n",
       "    </tr>\n",
       "    <tr>\n",
       "      <th>4</th>\n",
       "      <td>Apple AirPods Charging Latest Model</td>\n",
       "      <td>Good product</td>\n",
       "      <td>confortable, very good product</td>\n",
       "      <td>5.0 out of 5 stars</td>\n",
       "      <td>October 22, 2022</td>\n",
       "      <td>Reynaldo Rodriguez</td>\n",
       "      <td>https://amazon.com//gp/profile/amzn1.account.A...</td>\n",
       "      <td>True</td>\n",
       "    </tr>\n",
       "  </tbody>\n",
       "</table>\n",
       "</div>"
      ],
      "text/plain": [
       "                          product_name  \\\n",
       "0  Apple AirPods Charging Latest Model   \n",
       "1  Apple AirPods Charging Latest Model   \n",
       "2  Apple AirPods Charging Latest Model   \n",
       "3  Apple AirPods Charging Latest Model   \n",
       "4  Apple AirPods Charging Latest Model   \n",
       "\n",
       "                                        review_title  \\\n",
       "0                               Charging is horrible   \n",
       "1  Works perfect with Dell laptop, Samsung cell p...   \n",
       "2                                Apple does it again   \n",
       "3                                         Works good   \n",
       "4                                       Good product   \n",
       "\n",
       "                                      review_comment       review_rating  \\\n",
       "0  Charger doesn’t consistently charge. Drains wh...  3.0 out of 5 stars   \n",
       "1              Easy steps to follow for all devices.  5.0 out of 5 stars   \n",
       "2  Apple is always top quality and these are no e...  5.0 out of 5 stars   \n",
       "3                        No problems  they work good  5.0 out of 5 stars   \n",
       "4                     confortable, very good product  5.0 out of 5 stars   \n",
       "\n",
       "        review_date       user_username  \\\n",
       "0  October 23, 2022               Teddi   \n",
       "1  October 22, 2022                Pama   \n",
       "2  October 22, 2022          Charlie P.   \n",
       "3  October 22, 2022       Paula Pearson   \n",
       "4  October 22, 2022  Reynaldo Rodriguez   \n",
       "\n",
       "                                    user_profile_url  verified_purchase  \n",
       "0  https://amazon.com//gp/profile/amzn1.account.A...               True  \n",
       "1  https://amazon.com//gp/profile/amzn1.account.A...               True  \n",
       "2  https://amazon.com//gp/profile/amzn1.account.A...               True  \n",
       "3  https://amazon.com//gp/profile/amzn1.account.A...               True  \n",
       "4  https://amazon.com//gp/profile/amzn1.account.A...               True  "
      ]
     },
     "execution_count": 4,
     "metadata": {},
     "output_type": "execute_result"
    }
   ],
   "source": [
    "pd.DataFrame(reviews).head()"
   ]
  }
 ],
 "metadata": {
  "kernelspec": {
   "display_name": "Python 3.10.5 64-bit ('3.10.5')",
   "language": "python",
   "name": "python3"
  },
  "language_info": {
   "codemirror_mode": {
    "name": "ipython",
    "version": 3
   },
   "file_extension": ".py",
   "mimetype": "text/x-python",
   "name": "python",
   "nbconvert_exporter": "python",
   "pygments_lexer": "ipython3",
   "version": "3.10.5"
  },
  "orig_nbformat": 4,
  "vscode": {
   "interpreter": {
    "hash": "5c395646f09c62cd0a4225eecbf7f0db2b540a0317614e24b8da97c89261644e"
   }
  }
 },
 "nbformat": 4,
 "nbformat_minor": 2
}
